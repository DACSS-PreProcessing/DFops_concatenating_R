{
 "cells": [
  {
   "cell_type": "markdown",
   "metadata": {},
   "source": [
    "Here is some R:\n",
    "\n",
    "``` r\n",
    "x<-23\n",
    "x\n",
    "```\n",
    "\n",
    "Some display math:\n",
    "\n",
    "$$\n",
    "\\frac{2}{3} \n",
    "$$\n",
    "\n",
    "Some inline code 5\n",
    "\n",
    "Some graphics\n",
    "\n",
    "``` r\n",
    "plot(runif(x))\n",
    "```"
   ],
   "id": "307d7ab7-3385-4531-b42d-0ea22f6f51da"
  }
 ],
 "nbformat": 4,
 "nbformat_minor": 5,
 "metadata": {
  "kernelspec": {
   "name": "ir",
   "display_name": "R",
   "language": "R"
  }
 }
}
